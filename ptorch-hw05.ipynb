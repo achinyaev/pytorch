{
 "cells": [
  {
   "cell_type": "markdown",
   "metadata": {},
   "source": [
    "### Домашнее задание №5 ###\n",
    "<ol>\n",
    "    <li>Необходимо скачать и подготовить датасет https://www.kaggle.com/olekslu/makeup-lips-segmentation-28k-samples/notebooks для обучения модели на сегментацию губ (обратите внимание, что сегментация подразумевает уже два класса: фон и губы).\n",
    "    <li>И затем обучить Модель на выбор из segmentation_models_pytorch\n",
    "    <li>(Усложненное задание) Переделайте архитектуру декодера Unet так, как в этой работе https://www.ics.uci.edu/~haoyum3/papers/slides_icivc.pdf. Эта тема пересекается с темой о второго вебинара о LSTM-сетях. И попробуйте обучить получившуюся нейронную сеть.\n",
    "</ol>"
   ]
  },
  {
   "cell_type": "code",
   "execution_count": 1,
   "metadata": {},
   "outputs": [],
   "source": [
    "import numpy as np \n",
    "import pandas as pd \n",
    "import os\n",
    "import torch\n",
    "import cv2\n",
    "from torch.nn import functional as F\n",
    "import torch.nn as nn\n",
    "import matplotlib.pyplot as plt\n",
    "from pathlib import Path\n",
    "from torch.utils.data import Dataset, DataLoader\n",
    "from PIL import Image\n",
    "import time\n",
    "import warnings\n",
    "warnings.filterwarnings('ignore')"
   ]
  },
  {
   "cell_type": "code",
   "execution_count": 2,
   "metadata": {},
   "outputs": [],
   "source": [
    "\n",
    "class UNet(nn.Module):\n",
    "\n",
    "    def __init__(self, num_classes):\n",
    "        super(UNet, self).__init__()\n",
    "        self.num_classes = num_classes\n",
    "\n",
    "        # Левая сторона (Путь уменьшения размерности картинки)\n",
    "        self.contracting_11 = self.conv_block(in_channels=3, out_channels=64)\n",
    "        self.contracting_12 = nn.MaxPool2d(kernel_size=2, stride=2)\n",
    "        self.contracting_21 = self.conv_block(in_channels=64, out_channels=128)\n",
    "        self.contracting_22 = nn.MaxPool2d(kernel_size=2, stride=2)\n",
    "        self.contracting_31 = self.conv_block(in_channels=128, out_channels=256)\n",
    "        self.contracting_32 = nn.MaxPool2d(kernel_size=2, stride=2)\n",
    "        self.contracting_41 = self.conv_block(in_channels=256, out_channels=512)\n",
    "        self.contracting_42 = nn.MaxPool2d(kernel_size=2, stride=2)\n",
    "        self.middle = self.conv_block(in_channels=512, out_channels=1024)\n",
    "        self.expansive_11 = nn.ConvTranspose2d(in_channels=1024, out_channels=512, kernel_size=3, stride=2, padding=1, output_padding=1)\n",
    "        self.expansive_12 = self.conv_block(in_channels=1024, out_channels=512)\n",
    "        self.expansive_21 = nn.ConvTranspose2d(in_channels=512, out_channels=256, kernel_size=3, stride=2, padding=1, output_padding=1)\n",
    "        self.expansive_22 = self.conv_block(in_channels=512, out_channels=256)\n",
    "        self.expansive_31 = nn.ConvTranspose2d(in_channels=256, out_channels=128, kernel_size=3, stride=2, padding=1, output_padding=1)\n",
    "        self.expansive_32 = self.conv_block(in_channels=256, out_channels=128)\n",
    "        self.expansive_41 = nn.ConvTranspose2d(in_channels=128, out_channels=64, kernel_size=3, stride=2, padding=1, output_padding=1)\n",
    "        self.expansive_42 = self.conv_block(in_channels=128, out_channels=64)\n",
    "        self.output = nn.Conv2d(in_channels=64, out_channels=num_classes, kernel_size=3, stride=1, padding=1)\n",
    "        \n",
    "        self.softmax = nn.Softmax()\n",
    "    \n",
    "    \n",
    "    def conv_block(self, in_channels, out_channels):\n",
    "        block = nn.Sequential(nn.Conv2d(in_channels=in_channels, out_channels=out_channels, kernel_size=3, stride=1, padding=1),\n",
    "                              nn.ReLU(),\n",
    "                              nn.BatchNorm2d(num_features=out_channels),\n",
    "                              nn.Conv2d(in_channels=out_channels, out_channels=out_channels, kernel_size=3, stride=1, padding=1),\n",
    "                              nn.ReLU(),\n",
    "                              nn.BatchNorm2d(num_features=out_channels))\n",
    "        return block\n",
    "\n",
    "\n",
    "    def forward(self, X):\n",
    "        # Проход по левой стороне\n",
    "        x1 = self.contracting_11(X) # [-1, 64, 256, 256]\n",
    "        x2 = self.contracting_12(x1) # [-1, 64, 128, 128]\n",
    "        x3 = self.contracting_21(x2) # [-1, 128, 128, 128]\n",
    "        x4 = self.contracting_22(x3) # [-1, 128, 64, 64]\n",
    "        x5 = self.contracting_31(x4) # [-1, 256, 64, 64]\n",
    "        x6 = self.contracting_32(x5) # [-1, 256, 32, 32]\n",
    "        x7 = self.contracting_41(x6) # [-1, 512, 32, 32]\n",
    "        x8 = self.contracting_42(x7) # [-1, 512, 16, 16]\n",
    "        middle_out = self.middle(x8) # [-1, 1024, 16, 16]\n",
    "\n",
    "        # Проход по правой стороне\n",
    "        x = self.expansive_11(middle_out) # [-1, 512, 32, 32]\n",
    "        z = self.crop_tensor(x, x7)\n",
    "        x = self.expansive_12(torch.cat((x, z), dim=1)) # [-1, 1024, 32, 32] -> [-1, 512, 32, 32]\n",
    "        \n",
    "        x = self.expansive_21(x) # [-1, 256, 64, 64]\n",
    "        x5 = self.crop_tensor(x, x5)\n",
    "        x = self.expansive_22(torch.cat((x, x5), dim=1)) # [-1, 512, 64, 64] -> [-1, 256, 64, 64]\n",
    "        \n",
    "        x = self.expansive_31(x) # [-1, 128, 128, 128]\n",
    "        x3 = self.crop_tensor(x, x3)\n",
    "        x = self.expansive_32(torch.cat((x, x3), dim=1)) # [-1, 256, 128, 128] -> [-1, 128, 128, 128]\n",
    "        \n",
    "        x = self.expansive_41(x) # [-1, 64, 256, 256]\n",
    "        x1 = self.crop_tensor(x, x1)\n",
    "        x = self.expansive_42(torch.cat((x, x1), dim=1)) # [-1, 128, 256, 256] -> [-1, 64, 256, 256]\n",
    "        output = self.output(x) # [-1, num_classes, 256, 256]\n",
    "        \n",
    "        output = self.softmax(output)\n",
    "\n",
    "        return output\n",
    "    \n",
    "   \n",
    "    def crop_tensor(self, target_tensor, tensor):\n",
    "        target_size = target_tensor.size()[2]\n",
    "        tensor_size = tensor.size()[2]\n",
    "        delta = tensor_size - target_size\n",
    "        delta = delta // 2\n",
    "        \n",
    "        return tensor[:,:, delta:tensor_size-delta, delta:tensor_size-delta]"
   ]
  },
  {
   "cell_type": "code",
   "execution_count": 3,
   "metadata": {},
   "outputs": [],
   "source": [
    "#labels = np.unique(plt.imread('../input/makeup-lips-segmentation-28k-samples/set-lipstick-original/mask/mask00000001.png')[:,:,0]*255)\n",
    "labels = [ 'Unlabeled','Lips']\n",
    "image_path = 'set-lipstick-original\\\\720p\\\\'\n",
    "mask_path = 'set-lipstick-original\\\\mask\\\\'\n",
    "save_path = 'new_image\\\\'"
   ]
  },
  {
   "cell_type": "code",
   "execution_count": 4,
   "metadata": {},
   "outputs": [],
   "source": [
    "#os.mkdir('new_image')"
   ]
  },
  {
   "cell_type": "code",
   "execution_count": 5,
   "metadata": {},
   "outputs": [
    {
     "data": {
      "text/plain": [
       "array([[255, 255, 255, ..., 255, 255, 255],\n",
       "       [255, 255, 254, ..., 255, 255, 255],\n",
       "       [254, 254, 254, ..., 255, 255, 255],\n",
       "       ...,\n",
       "       [ 32,  32,  32, ...,  63,  63,  63],\n",
       "       [ 32,  32,  32, ...,  60,  61,  61],\n",
       "       [ 32,  32,  32, ...,  58,  59,  59]], dtype=uint8)"
      ]
     },
     "execution_count": 5,
     "metadata": {},
     "output_type": "execute_result"
    }
   ],
   "source": [
    "plt.imread(image_path+'image00000001.jpg')[:,:,0]"
   ]
  },
  {
   "cell_type": "code",
   "execution_count": 6,
   "metadata": {},
   "outputs": [
    {
     "data": {
      "image/png": "[encoded data removed]",
      "text/plain": [
       "<Figure size 720x720 with 2 Axes>"
      ]
     },
     "metadata": {
      "needs_background": "light"
     },
     "output_type": "display_data"
    }
   ],
   "source": [
    "fig,ax = plt.subplots(1,2,figsize=(10, 10))\n",
    "ax[0].imshow(plt.imread(image_path+'image00000001.jpg'))\n",
    "ax[1].imshow(plt.imread(mask_path+'mask00000001.png'))\n",
    "plt.show()"
   ]
  },
  {
   "cell_type": "markdown",
   "metadata": {
    "execution": {
     "iopub.execute_input": "2022-02-28T12:46:51.177113Z",
     "iopub.status.busy": "2022-02-28T12:46:51.176742Z",
     "iopub.status.idle": "2022-02-28T12:47:10.579189Z",
     "shell.execute_reply": "2022-02-28T12:47:10.577629Z",
     "shell.execute_reply.started": "2022-02-28T12:46:51.177073Z"
    }
   },
   "source": [
    "\n",
    "for i in range(78):\n",
    "    mask = plt.imread('../input/makeup-lips-segmentation-28k-samples/set-lipstick-original/mask/mask00000001.png')*255\n",
    "    mask = np.where(mask == i, 255, 0)\n",
    "    mask = mask[:,:,0]\n",
    "    plt.title(labels[i])\n",
    "    plt.imshow(mask)\n",
    "    plt.show()"
   ]
  },
  {
   "cell_type": "code",
   "execution_count": 7,
   "metadata": {},
   "outputs": [
    {
     "data": {
      "text/html": [
       "<div>\n",
       "<style scoped>\n",
       "    .dataframe tbody tr th:only-of-type {\n",
       "        vertical-align: middle;\n",
       "    }\n",
       "\n",
       "    .dataframe tbody tr th {\n",
       "        vertical-align: top;\n",
       "    }\n",
       "\n",
       "    .dataframe thead th {\n",
       "        text-align: right;\n",
       "    }\n",
       "</style>\n",
       "<table border=\"1\" class=\"dataframe\">\n",
       "  <thead>\n",
       "    <tr style=\"text-align: right;\">\n",
       "      <th></th>\n",
       "      <th>filename</th>\n",
       "      <th>width</th>\n",
       "      <th>height</th>\n",
       "      <th>class</th>\n",
       "      <th>xmin</th>\n",
       "      <th>ymin</th>\n",
       "      <th>xmax</th>\n",
       "      <th>ymax</th>\n",
       "      <th>mask</th>\n",
       "    </tr>\n",
       "  </thead>\n",
       "  <tbody>\n",
       "    <tr>\n",
       "      <th>0</th>\n",
       "      <td>image00000001.jpg</td>\n",
       "      <td>1280</td>\n",
       "      <td>720</td>\n",
       "      <td>Lips</td>\n",
       "      <td>661</td>\n",
       "      <td>394</td>\n",
       "      <td>776</td>\n",
       "      <td>444</td>\n",
       "      <td>mask00000001.png</td>\n",
       "    </tr>\n",
       "    <tr>\n",
       "      <th>1</th>\n",
       "      <td>image00000002.jpg</td>\n",
       "      <td>1280</td>\n",
       "      <td>720</td>\n",
       "      <td>Lips</td>\n",
       "      <td>557</td>\n",
       "      <td>336</td>\n",
       "      <td>682</td>\n",
       "      <td>392</td>\n",
       "      <td>mask00000002.png</td>\n",
       "    </tr>\n",
       "    <tr>\n",
       "      <th>2</th>\n",
       "      <td>image00000003.jpg</td>\n",
       "      <td>1280</td>\n",
       "      <td>720</td>\n",
       "      <td>Lips</td>\n",
       "      <td>553</td>\n",
       "      <td>369</td>\n",
       "      <td>684</td>\n",
       "      <td>427</td>\n",
       "      <td>mask00000003.png</td>\n",
       "    </tr>\n",
       "    <tr>\n",
       "      <th>3</th>\n",
       "      <td>image00000004.jpg</td>\n",
       "      <td>1280</td>\n",
       "      <td>720</td>\n",
       "      <td>Lips</td>\n",
       "      <td>555</td>\n",
       "      <td>351</td>\n",
       "      <td>681</td>\n",
       "      <td>408</td>\n",
       "      <td>mask00000004.png</td>\n",
       "    </tr>\n",
       "    <tr>\n",
       "      <th>4</th>\n",
       "      <td>image00000005.jpg</td>\n",
       "      <td>1280</td>\n",
       "      <td>720</td>\n",
       "      <td>Lips</td>\n",
       "      <td>555</td>\n",
       "      <td>351</td>\n",
       "      <td>680</td>\n",
       "      <td>407</td>\n",
       "      <td>mask00000005.png</td>\n",
       "    </tr>\n",
       "  </tbody>\n",
       "</table>\n",
       "</div>"
      ],
      "text/plain": [
       "            filename  width  height class  xmin  ymin  xmax  ymax  \\\n",
       "0  image00000001.jpg   1280     720  Lips   661   394   776   444   \n",
       "1  image00000002.jpg   1280     720  Lips   557   336   682   392   \n",
       "2  image00000003.jpg   1280     720  Lips   553   369   684   427   \n",
       "3  image00000004.jpg   1280     720  Lips   555   351   681   408   \n",
       "4  image00000005.jpg   1280     720  Lips   555   351   680   407   \n",
       "\n",
       "               mask  \n",
       "0  mask00000001.png  \n",
       "1  mask00000002.png  \n",
       "2  mask00000003.png  \n",
       "3  mask00000004.png  \n",
       "4  mask00000005.png  "
      ]
     },
     "execution_count": 7,
     "metadata": {},
     "output_type": "execute_result"
    }
   ],
   "source": [
    "df = pd.read_csv('set-lipstick-original/list.csv')\n",
    "df.head(5)"
   ]
  },
  {
   "cell_type": "code",
   "execution_count": 8,
   "metadata": {},
   "outputs": [],
   "source": [
    "df = pd.DataFrame({'cameraRGB':  df['filename'],\n",
    "                    'cameraSeg': df['mask']})"
   ]
  },
  {
   "cell_type": "code",
   "execution_count": 9,
   "metadata": {},
   "outputs": [
    {
     "data": {
      "text/html": [
       "<div>\n",
       "<style scoped>\n",
       "    .dataframe tbody tr th:only-of-type {\n",
       "        vertical-align: middle;\n",
       "    }\n",
       "\n",
       "    .dataframe tbody tr th {\n",
       "        vertical-align: top;\n",
       "    }\n",
       "\n",
       "    .dataframe thead th {\n",
       "        text-align: right;\n",
       "    }\n",
       "</style>\n",
       "<table border=\"1\" class=\"dataframe\">\n",
       "  <thead>\n",
       "    <tr style=\"text-align: right;\">\n",
       "      <th></th>\n",
       "      <th>cameraRGB</th>\n",
       "      <th>cameraSeg</th>\n",
       "    </tr>\n",
       "  </thead>\n",
       "  <tbody>\n",
       "    <tr>\n",
       "      <th>0</th>\n",
       "      <td>image00000001.jpg</td>\n",
       "      <td>mask00000001.png</td>\n",
       "    </tr>\n",
       "    <tr>\n",
       "      <th>1</th>\n",
       "      <td>image00000002.jpg</td>\n",
       "      <td>mask00000002.png</td>\n",
       "    </tr>\n",
       "    <tr>\n",
       "      <th>2</th>\n",
       "      <td>image00000003.jpg</td>\n",
       "      <td>mask00000003.png</td>\n",
       "    </tr>\n",
       "    <tr>\n",
       "      <th>3</th>\n",
       "      <td>image00000004.jpg</td>\n",
       "      <td>mask00000004.png</td>\n",
       "    </tr>\n",
       "    <tr>\n",
       "      <th>4</th>\n",
       "      <td>image00000005.jpg</td>\n",
       "      <td>mask00000005.png</td>\n",
       "    </tr>\n",
       "  </tbody>\n",
       "</table>\n",
       "</div>"
      ],
      "text/plain": [
       "           cameraRGB         cameraSeg\n",
       "0  image00000001.jpg  mask00000001.png\n",
       "1  image00000002.jpg  mask00000002.png\n",
       "2  image00000003.jpg  mask00000003.png\n",
       "3  image00000004.jpg  mask00000004.png\n",
       "4  image00000005.jpg  mask00000005.png"
      ]
     },
     "execution_count": 9,
     "metadata": {},
     "output_type": "execute_result"
    }
   ],
   "source": [
    "df.head(5)"
   ]
  },
  {
   "cell_type": "code",
   "execution_count": 10,
   "metadata": {},
   "outputs": [
    {
     "name": "stdout",
     "output_type": "stream",
     "text": [
      "<class 'pandas.core.frame.DataFrame'>\n",
      "Int64Index: 28594 entries, 0 to 28593\n",
      "Data columns (total 2 columns):\n",
      " #   Column     Non-Null Count  Dtype \n",
      "---  ------     --------------  ----- \n",
      " 0   cameraRGB  28594 non-null  object\n",
      " 1   cameraSeg  28594 non-null  object\n",
      "dtypes: object(2)\n",
      "memory usage: 670.2+ KB\n"
     ]
    }
   ],
   "source": [
    "df = df.dropna()\n",
    "df.info()"
   ]
  },
  {
   "cell_type": "code",
   "execution_count": 11,
   "metadata": {},
   "outputs": [],
   "source": [
    "cameraRGB = []\n",
    "cameraSeg = []\n",
    "for root, dirs, files in os.walk('./set-lipstick-original'):\n",
    "    for name in files:\n",
    "        f = os.path.join(root, name)\n",
    "        if '720p' in f:\n",
    "            cameraRGB.append(name)\n",
    "        elif 'mask' in f:\n",
    "            cameraSeg.append(name)\n",
    "        else:\n",
    "            break"
   ]
  },
  {
   "cell_type": "code",
   "execution_count": 12,
   "metadata": {},
   "outputs": [],
   "source": [
    "cameraSeg = sorted(cameraSeg)\n",
    "cameraRGB = sorted(cameraRGB)"
   ]
  },
  {
   "cell_type": "code",
   "execution_count": 13,
   "metadata": {},
   "outputs": [
    {
     "data": {
      "text/plain": [
       "(28540, 28594)"
      ]
     },
     "execution_count": 13,
     "metadata": {},
     "output_type": "execute_result"
    }
   ],
   "source": [
    "len(cameraSeg),len(cameraRGB)"
   ]
  },
  {
   "cell_type": "code",
   "execution_count": 14,
   "metadata": {
    "execution": {
     "iopub.execute_input": "2022-03-01T08:48:49.194472Z",
     "iopub.status.busy": "2022-03-01T08:48:49.19387Z",
     "iopub.status.idle": "2022-03-01T08:48:49.281091Z",
     "shell.execute_reply": "2022-03-01T08:48:49.276797Z",
     "shell.execute_reply.started": "2022-03-01T08:48:49.194324Z"
    }
   },
   "outputs": [],
   "source": [
    "mask_list = sorted([i.name for i in Path('./set-lipstick-original/mask/').iterdir()])"
   ]
  },
  {
   "cell_type": "code",
   "execution_count": 15,
   "metadata": {},
   "outputs": [
    {
     "data": {
      "text/plain": [
       "'mask00000002.png'"
      ]
     },
     "execution_count": 15,
     "metadata": {},
     "output_type": "execute_result"
    }
   ],
   "source": [
    "str(mask_list[1])"
   ]
  },
  {
   "cell_type": "code",
   "execution_count": 16,
   "metadata": {
    "execution": {
     "iopub.status.busy": "2022-03-01T08:48:49.282097Z",
     "iopub.status.idle": "2022-03-01T08:48:49.282737Z",
     "shell.execute_reply": "2022-03-01T08:48:49.282555Z",
     "shell.execute_reply.started": "2022-03-01T08:48:49.282533Z"
    }
   },
   "outputs": [
    {
     "name": "stdout",
     "output_type": "stream",
     "text": [
      "<class 'pandas.core.frame.DataFrame'>\n",
      "RangeIndex: 28540 entries, 0 to 28539\n",
      "Data columns (total 2 columns):\n",
      " #   Column     Non-Null Count  Dtype \n",
      "---  ------     --------------  ----- \n",
      " 0   cameraRGB  28540 non-null  object\n",
      " 1   cameraSeg  28540 non-null  object\n",
      "dtypes: object(2)\n",
      "memory usage: 446.1+ KB\n"
     ]
    }
   ],
   "source": [
    "df = df.loc[df['cameraSeg'].isin([str(i) for i in mask_list])]\n",
    "df.reset_index(drop=True, inplace=True)\n",
    "df.info()"
   ]
  },
  {
   "cell_type": "code",
   "execution_count": 17,
   "metadata": {},
   "outputs": [],
   "source": [
    "def mask_monochrome(x):\n",
    "    if (os.path.exists(os.path.join(save_path, x)) == False):\n",
    "        mask = cv2.imread(os.path.join(mask_path, x), cv2.IMREAD_GRAYSCALE)\n",
    "        (thresh, mask_binary) = cv2.threshold(mask, 128, 255, cv2.THRESH_BINARY)\n",
    "        cv2.imwrite(os.path.join(save_path, x), mask_binary)\n",
    "    return os.path.join(save_path, x)"
   ]
  },
  {
   "cell_type": "code",
   "execution_count": 18,
   "metadata": {},
   "outputs": [],
   "source": [
    "#StopCode"
   ]
  },
  {
   "cell_type": "code",
   "execution_count": 19,
   "metadata": {},
   "outputs": [],
   "source": [
    "img = []\n",
    "new_mask = []\n",
    "for index, row in df.iterrows():\n",
    "    img_path = os.path.join(image_path, row['cameraRGB'])\n",
    "    new_mask_path = mask_monochrome(row['cameraSeg'])\n",
    "    img.append(img_path)\n",
    "    new_mask.append(new_mask_path)\n",
    "df['cameraRGB'] = img\n",
    "df['cameraSeg'] = new_mask"
   ]
  },
  {
   "cell_type": "code",
   "execution_count": 20,
   "metadata": {},
   "outputs": [
    {
     "data": {
      "text/html": [
       "<div>\n",
       "<style scoped>\n",
       "    .dataframe tbody tr th:only-of-type {\n",
       "        vertical-align: middle;\n",
       "    }\n",
       "\n",
       "    .dataframe tbody tr th {\n",
       "        vertical-align: top;\n",
       "    }\n",
       "\n",
       "    .dataframe thead th {\n",
       "        text-align: right;\n",
       "    }\n",
       "</style>\n",
       "<table border=\"1\" class=\"dataframe\">\n",
       "  <thead>\n",
       "    <tr style=\"text-align: right;\">\n",
       "      <th></th>\n",
       "      <th>cameraRGB</th>\n",
       "      <th>cameraSeg</th>\n",
       "    </tr>\n",
       "  </thead>\n",
       "  <tbody>\n",
       "    <tr>\n",
       "      <th>0</th>\n",
       "      <td>set-lipstick-original\\720p\\image00000001.jpg</td>\n",
       "      <td>new_image\\mask00000001.png</td>\n",
       "    </tr>\n",
       "    <tr>\n",
       "      <th>1</th>\n",
       "      <td>set-lipstick-original\\720p\\image00000002.jpg</td>\n",
       "      <td>new_image\\mask00000002.png</td>\n",
       "    </tr>\n",
       "    <tr>\n",
       "      <th>2</th>\n",
       "      <td>set-lipstick-original\\720p\\image00000003.jpg</td>\n",
       "      <td>new_image\\mask00000003.png</td>\n",
       "    </tr>\n",
       "    <tr>\n",
       "      <th>3</th>\n",
       "      <td>set-lipstick-original\\720p\\image00000004.jpg</td>\n",
       "      <td>new_image\\mask00000004.png</td>\n",
       "    </tr>\n",
       "    <tr>\n",
       "      <th>4</th>\n",
       "      <td>set-lipstick-original\\720p\\image00000005.jpg</td>\n",
       "      <td>new_image\\mask00000005.png</td>\n",
       "    </tr>\n",
       "  </tbody>\n",
       "</table>\n",
       "</div>"
      ],
      "text/plain": [
       "                                      cameraRGB                   cameraSeg\n",
       "0  set-lipstick-original\\720p\\image00000001.jpg  new_image\\mask00000001.png\n",
       "1  set-lipstick-original\\720p\\image00000002.jpg  new_image\\mask00000002.png\n",
       "2  set-lipstick-original\\720p\\image00000003.jpg  new_image\\mask00000003.png\n",
       "3  set-lipstick-original\\720p\\image00000004.jpg  new_image\\mask00000004.png\n",
       "4  set-lipstick-original\\720p\\image00000005.jpg  new_image\\mask00000005.png"
      ]
     },
     "execution_count": 20,
     "metadata": {},
     "output_type": "execute_result"
    }
   ],
   "source": [
    "df.head()"
   ]
  },
  {
   "cell_type": "code",
   "execution_count": 21,
   "metadata": {
    "execution": {
     "iopub.status.busy": "2022-03-01T08:48:49.283786Z",
     "iopub.status.idle": "2022-03-01T08:48:49.284096Z",
     "shell.execute_reply": "2022-03-01T08:48:49.283946Z",
     "shell.execute_reply.started": "2022-03-01T08:48:49.28393Z"
    }
   },
   "outputs": [],
   "source": [
    "class CustomDatasetFromImages(Dataset):\n",
    "    def __init__(self, data_info):\n",
    "        self.data_info = data_info\n",
    "        self.image_arr = self.data_info.iloc[:,0]\n",
    "        self.label_arr = self.data_info.iloc[:,1]\n",
    "        self.data_len = len(self.data_info.index)\n",
    "        self.class_values = [labels.index(cls) for cls in labels]\n",
    "        \n",
    "    def __getitem__(self, index):\n",
    "        img = Image.open(self.image_arr[index])\n",
    "        # Преобразовываем к размеру 256х256\n",
    "        img = img.resize((256,256))\n",
    "        img = np.asarray(img).astype('float')\n",
    "        # Нормализуем изображение в значениях [0,1]\n",
    "        img = torch.as_tensor(img)/255    \n",
    "        # Количество каналов ставим на первый план - этого хочет pytorch\n",
    "        img = img.permute(2,0,1).float()\n",
    "        \n",
    "        # Считываем нашу маску\n",
    "        mask = np.asarray(plt.imread(self.label_arr[index]))[:,:]*255\n",
    "\n",
    "        # Здесь мы создаем список бинарных масок из нашей одной общей маски \n",
    "        masks = [(mask == v) for v in self.class_values]\n",
    "        # Стекаем все вместе в один многомерный тензор масок\n",
    "        mask = np.stack(masks, axis=-1).astype('float')\n",
    "        #  Приводим к типу тензора\n",
    "        mask = torch.as_tensor(mask)\n",
    "        # Размерность каналов на передний план\n",
    "        mask = mask.permute(2,0,1)\n",
    "        \n",
    "        # делаем ресайз маски на 256х256\n",
    "        # Для этого используем функцию interpolate\n",
    "        ### Что бы ресайзить и высоту и ширину картинки, нужно перед interpolate\n",
    "        ### пороизвести unsqueeze над тензором, и squeeze после.\n",
    "        # unsqueeze - меняет размерность img c (256, 256, 3) -> (1, 256, 256, 3),\n",
    "        mask = mask.unsqueeze(0)\n",
    "        mask = F.interpolate(input=mask, size=256, mode='nearest')\n",
    "        mask=mask.squeeze(0).squeeze(0)\n",
    "        \n",
    "        \n",
    "        return (img, mask)\n",
    "\n",
    "    def __len__(self):\n",
    "        return self.data_len"
   ]
  },
  {
   "cell_type": "code",
   "execution_count": 22,
   "metadata": {
    "execution": {
     "iopub.status.busy": "2022-03-01T08:48:49.285468Z",
     "iopub.status.idle": "2022-03-01T08:48:49.285877Z",
     "shell.execute_reply": "2022-03-01T08:48:49.285661Z",
     "shell.execute_reply.started": "2022-03-01T08:48:49.285644Z"
    }
   },
   "outputs": [],
   "source": [
    "from sklearn.model_selection import train_test_split\n",
    "\n",
    "X_train, X_test = train_test_split(df,test_size=0.3)\n",
    "\n",
    "X_train.reset_index(drop=True,inplace=True)\n",
    "X_test.reset_index(drop=True,inplace=True)\n",
    "\n",
    "train_data = CustomDatasetFromImages(X_train)\n",
    "test_data = CustomDatasetFromImages(X_test)"
   ]
  },
  {
   "cell_type": "code",
   "execution_count": 23,
   "metadata": {
    "execution": {
     "iopub.status.busy": "2022-03-01T08:48:49.286902Z",
     "iopub.status.idle": "2022-03-01T08:48:49.287276Z",
     "shell.execute_reply": "2022-03-01T08:48:49.287103Z",
     "shell.execute_reply.started": "2022-03-01T08:48:49.287078Z"
    }
   },
   "outputs": [
    {
     "data": {
      "text/plain": [
       "0        new_image\\mask00004656.png\n",
       "1        new_image\\mask00028031.png\n",
       "2        new_image\\mask00023264.png\n",
       "3        new_image\\mask00012604.png\n",
       "4        new_image\\mask00000091.png\n",
       "                    ...            \n",
       "19973    new_image\\mask00027889.png\n",
       "19974    new_image\\mask00027586.png\n",
       "19975    new_image\\mask00000910.png\n",
       "19976    new_image\\mask00007185.png\n",
       "19977    new_image\\mask00022498.png\n",
       "Name: cameraSeg, Length: 19978, dtype: object"
      ]
     },
     "execution_count": 23,
     "metadata": {},
     "output_type": "execute_result"
    }
   ],
   "source": [
    "X_train.iloc[:,1]"
   ]
  },
  {
   "cell_type": "code",
   "execution_count": 24,
   "metadata": {
    "execution": {
     "iopub.status.busy": "2022-03-01T08:48:49.289156Z",
     "iopub.status.idle": "2022-03-01T08:48:49.289743Z",
     "shell.execute_reply": "2022-03-01T08:48:49.289537Z",
     "shell.execute_reply.started": "2022-03-01T08:48:49.289515Z"
    }
   },
   "outputs": [],
   "source": [
    "train_data_loader = DataLoader(train_data,batch_size=8,shuffle=True)\n",
    "test_data_loader = DataLoader(test_data,batch_size=5,shuffle=False)"
   ]
  },
  {
   "cell_type": "code",
   "execution_count": 25,
   "metadata": {
    "execution": {
     "iopub.status.busy": "2022-03-01T08:48:49.290832Z",
     "iopub.status.idle": "2022-03-01T08:48:49.291883Z",
     "shell.execute_reply": "2022-03-01T08:48:49.291651Z",
     "shell.execute_reply.started": "2022-03-01T08:48:49.291626Z"
    }
   },
   "outputs": [
    {
     "name": "stdout",
     "output_type": "stream",
     "text": [
      "tensor(0.6601) tensor(0.2990)\n"
     ]
    }
   ],
   "source": [
    "data = next(iter(train_data_loader))\n",
    "print(data[0].mean(), data[0].std())"
   ]
  },
  {
   "cell_type": "code",
   "execution_count": 26,
   "metadata": {
    "execution": {
     "iopub.status.busy": "2022-03-01T08:48:49.293152Z",
     "iopub.status.idle": "2022-03-01T08:48:49.293502Z",
     "shell.execute_reply": "2022-03-01T08:48:49.293339Z",
     "shell.execute_reply.started": "2022-03-01T08:48:49.293314Z"
    }
   },
   "outputs": [],
   "source": [
    "learning_rate = 0.0001\n",
    "epochs = 5"
   ]
  },
  {
   "cell_type": "code",
   "execution_count": 27,
   "metadata": {
    "execution": {
     "iopub.status.busy": "2022-03-01T08:48:49.294931Z",
     "iopub.status.idle": "2022-03-01T08:48:49.29537Z",
     "shell.execute_reply": "2022-03-01T08:48:49.295191Z",
     "shell.execute_reply.started": "2022-03-01T08:48:49.295168Z"
    }
   },
   "outputs": [],
   "source": [
    "def dice_loss(output, target, weights=None, ignore_index=None):\n",
    "    \"\"\"\n",
    "    output : NxCxHxW Variable\n",
    "    target :  NxHxW LongTensor\n",
    "    weights : C FloatTensor\n",
    "    ignore_index : int index to ignore from loss\n",
    "    \"\"\"\n",
    "    eps = 0.0001\n",
    "\n",
    "    output = output.float().exp()\n",
    "    target = target.type(torch.int64)\n",
    "    encoded_target = output.detach() * 0\n",
    "    if ignore_index is not None:\n",
    "        mask = target == ignore_index\n",
    "        target = target.clone()\n",
    "        target[mask] = 0\n",
    "        encoded_target.scatter_(1, target.unsqueeze(1), 1)\n",
    "        mask = mask.unsqueeze(1).expand_as(encoded_target)\n",
    "        encoded_target[mask] = 0\n",
    "    else:\n",
    "        encoded_target.scatter_(1, target.unsqueeze(1), 1)\n",
    "\n",
    "    if weights is None:\n",
    "        weights = 1\n",
    "\n",
    "    intersection = output * encoded_target\n",
    "    numerator = 2 * intersection.sum(0).sum(1).sum(1)\n",
    "    denominator = output + encoded_target\n",
    "\n",
    "    if ignore_index is not None:\n",
    "        denominator[mask] = 0\n",
    "    denominator = denominator.sum(0).sum(1).sum(1) + eps\n",
    "    loss_per_channel = weights * (1 - (numerator / denominator))\n",
    "\n",
    "    return loss_per_channel.sum() / output.size(1)"
   ]
  },
  {
   "cell_type": "code",
   "execution_count": 28,
   "metadata": {
    "execution": {
     "iopub.status.busy": "2022-03-01T08:48:49.296811Z",
     "iopub.status.idle": "2022-03-01T08:48:49.297161Z",
     "shell.execute_reply": "2022-03-01T08:48:49.297001Z",
     "shell.execute_reply.started": "2022-03-01T08:48:49.296977Z"
    }
   },
   "outputs": [],
   "source": [
    "class SoftDiceLoss(nn.Module):\n",
    "    def __init__(self, weight=None, size_average=True):\n",
    "        super(SoftDiceLoss, self).__init__()\n",
    "\n",
    "    def forward(self, logits, targets):\n",
    "        smooth =1\n",
    "        num = targets.size(0)\n",
    "        probs = logits\n",
    "        m1 = probs.view(num, -1)\n",
    "        m2 = targets.view(num, -1)\n",
    "        intersection = (m1 * m2)\n",
    "\n",
    "        score =(2. * intersection.sum(1) + smooth) / (m1.sum(1) + m2.sum(1) + smooth)\n",
    "        #print(score.sum())\n",
    "        score =1 - score.sum() / num\n",
    "        return score\n",
    "    # This function has only a single output, so it gets only one gradient\n",
    "    def backward(self, grad_output):\n",
    "\n",
    "        input, target = self.saved_variables\n",
    "        grad_input = grad_target = None\n",
    "\n",
    "        if self.needs_input_grad[0]:\n",
    "            grad_input = grad_output * 2 * (target * self.union - self.inter) \\\n",
    "                         / (self.union * self.union)\n",
    "        if self.needs_input_grad[1]:\n",
    "            grad_target = None\n",
    "\n",
    "        return grad_input, grad_target"
   ]
  },
  {
   "cell_type": "code",
   "execution_count": 29,
   "metadata": {
    "execution": {
     "iopub.status.busy": "2022-03-01T08:48:49.299165Z",
     "iopub.status.idle": "2022-03-01T08:48:49.299845Z",
     "shell.execute_reply": "2022-03-01T08:48:49.299592Z",
     "shell.execute_reply.started": "2022-03-01T08:48:49.299569Z"
    }
   },
   "outputs": [],
   "source": [
    "device = torch.device('cuda:0' if torch.cuda.is_available() else 'cpu')"
   ]
  },
  {
   "cell_type": "code",
   "execution_count": 30,
   "metadata": {},
   "outputs": [
    {
     "data": {
      "text/plain": [
       "device(type='cpu')"
      ]
     },
     "execution_count": 30,
     "metadata": {},
     "output_type": "execute_result"
    }
   ],
   "source": [
    "device"
   ]
  },
  {
   "cell_type": "code",
   "execution_count": 31,
   "metadata": {
    "execution": {
     "iopub.status.busy": "2022-03-01T08:48:49.301254Z",
     "iopub.status.idle": "2022-03-01T08:48:49.301813Z",
     "shell.execute_reply": "2022-03-01T08:48:49.30161Z",
     "shell.execute_reply.started": "2022-03-01T08:48:49.30159Z"
    }
   },
   "outputs": [],
   "source": [
    "model = UNet(num_classes=2).to(device)"
   ]
  },
  {
   "cell_type": "code",
   "execution_count": 32,
   "metadata": {
    "execution": {
     "iopub.status.busy": "2022-03-01T08:48:49.302656Z",
     "iopub.status.idle": "2022-03-01T08:48:49.303152Z",
     "shell.execute_reply": "2022-03-01T08:48:49.302997Z",
     "shell.execute_reply.started": "2022-03-01T08:48:49.302979Z"
    }
   },
   "outputs": [],
   "source": [
    "optimizer = torch.optim.Adam(model.parameters(), lr=learning_rate)\n",
    "criterion=SoftDiceLoss()"
   ]
  },
  {
   "cell_type": "code",
   "execution_count": 33,
   "metadata": {
    "execution": {
     "iopub.status.busy": "2022-03-01T08:48:49.304255Z",
     "iopub.status.idle": "2022-03-01T08:48:49.304904Z",
     "shell.execute_reply": "2022-03-01T08:48:49.30469Z",
     "shell.execute_reply.started": "2022-03-01T08:48:49.304667Z"
    }
   },
   "outputs": [
    {
     "name": "stdout",
     "output_type": "stream",
     "text": [
      "5 epochs, 2498 total_steps per epoch\n"
     ]
    }
   ],
   "source": [
    "# The training loop\n",
    "total_steps = len(train_data_loader)\n",
    "print(f\"{epochs} epochs, {total_steps} total_steps per epoch\")"
   ]
  },
  {
   "cell_type": "code",
   "execution_count": 34,
   "metadata": {
    "execution": {
     "iopub.status.busy": "2022-03-01T08:48:49.305966Z",
     "iopub.status.idle": "2022-03-01T08:48:49.306399Z",
     "shell.execute_reply": "2022-03-01T08:48:49.306244Z",
     "shell.execute_reply.started": "2022-03-01T08:48:49.306226Z"
    }
   },
   "outputs": [],
   "source": [
    "step_losses = []\n",
    "epoch_losses = []"
   ]
  },
  {
   "cell_type": "code",
   "execution_count": 35,
   "metadata": {
    "execution": {
     "iopub.status.busy": "2022-03-01T08:48:49.307229Z",
     "iopub.status.idle": "2022-03-01T08:48:49.307702Z",
     "shell.execute_reply": "2022-03-01T08:48:49.307518Z",
     "shell.execute_reply.started": "2022-03-01T08:48:49.307501Z"
    }
   },
   "outputs": [
    {
     "data": {
      "text/plain": [
       "['Unlabeled', 'Lips']"
      ]
     },
     "execution_count": 35,
     "metadata": {},
     "output_type": "execute_result"
    }
   ],
   "source": [
    "labels"
   ]
  },
  {
   "cell_type": "code",
   "execution_count": 36,
   "metadata": {},
   "outputs": [
    {
     "data": {
      "text/html": [
       "<div>\n",
       "<style scoped>\n",
       "    .dataframe tbody tr th:only-of-type {\n",
       "        vertical-align: middle;\n",
       "    }\n",
       "\n",
       "    .dataframe tbody tr th {\n",
       "        vertical-align: top;\n",
       "    }\n",
       "\n",
       "    .dataframe thead th {\n",
       "        text-align: right;\n",
       "    }\n",
       "</style>\n",
       "<table border=\"1\" class=\"dataframe\">\n",
       "  <thead>\n",
       "    <tr style=\"text-align: right;\">\n",
       "      <th></th>\n",
       "      <th>cameraRGB</th>\n",
       "      <th>cameraSeg</th>\n",
       "    </tr>\n",
       "  </thead>\n",
       "  <tbody>\n",
       "    <tr>\n",
       "      <th>0</th>\n",
       "      <td>set-lipstick-original\\720p\\image00004656.jpg</td>\n",
       "      <td>new_image\\mask00004656.png</td>\n",
       "    </tr>\n",
       "    <tr>\n",
       "      <th>1</th>\n",
       "      <td>set-lipstick-original\\720p\\image00028031.jpg</td>\n",
       "      <td>new_image\\mask00028031.png</td>\n",
       "    </tr>\n",
       "    <tr>\n",
       "      <th>2</th>\n",
       "      <td>set-lipstick-original\\720p\\image00023264.jpg</td>\n",
       "      <td>new_image\\mask00023264.png</td>\n",
       "    </tr>\n",
       "    <tr>\n",
       "      <th>3</th>\n",
       "      <td>set-lipstick-original\\720p\\image00012604.jpg</td>\n",
       "      <td>new_image\\mask00012604.png</td>\n",
       "    </tr>\n",
       "    <tr>\n",
       "      <th>4</th>\n",
       "      <td>set-lipstick-original\\720p\\image00000091.jpg</td>\n",
       "      <td>new_image\\mask00000091.png</td>\n",
       "    </tr>\n",
       "    <tr>\n",
       "      <th>...</th>\n",
       "      <td>...</td>\n",
       "      <td>...</td>\n",
       "    </tr>\n",
       "    <tr>\n",
       "      <th>19973</th>\n",
       "      <td>set-lipstick-original\\720p\\image00027889.jpg</td>\n",
       "      <td>new_image\\mask00027889.png</td>\n",
       "    </tr>\n",
       "    <tr>\n",
       "      <th>19974</th>\n",
       "      <td>set-lipstick-original\\720p\\image00027586.jpg</td>\n",
       "      <td>new_image\\mask00027586.png</td>\n",
       "    </tr>\n",
       "    <tr>\n",
       "      <th>19975</th>\n",
       "      <td>set-lipstick-original\\720p\\image00000910.jpg</td>\n",
       "      <td>new_image\\mask00000910.png</td>\n",
       "    </tr>\n",
       "    <tr>\n",
       "      <th>19976</th>\n",
       "      <td>set-lipstick-original\\720p\\image00007185.jpg</td>\n",
       "      <td>new_image\\mask00007185.png</td>\n",
       "    </tr>\n",
       "    <tr>\n",
       "      <th>19977</th>\n",
       "      <td>set-lipstick-original\\720p\\image00022498.jpg</td>\n",
       "      <td>new_image\\mask00022498.png</td>\n",
       "    </tr>\n",
       "  </tbody>\n",
       "</table>\n",
       "<p>19978 rows × 2 columns</p>\n",
       "</div>"
      ],
      "text/plain": [
       "                                          cameraRGB  \\\n",
       "0      set-lipstick-original\\720p\\image00004656.jpg   \n",
       "1      set-lipstick-original\\720p\\image00028031.jpg   \n",
       "2      set-lipstick-original\\720p\\image00023264.jpg   \n",
       "3      set-lipstick-original\\720p\\image00012604.jpg   \n",
       "4      set-lipstick-original\\720p\\image00000091.jpg   \n",
       "...                                             ...   \n",
       "19973  set-lipstick-original\\720p\\image00027889.jpg   \n",
       "19974  set-lipstick-original\\720p\\image00027586.jpg   \n",
       "19975  set-lipstick-original\\720p\\image00000910.jpg   \n",
       "19976  set-lipstick-original\\720p\\image00007185.jpg   \n",
       "19977  set-lipstick-original\\720p\\image00022498.jpg   \n",
       "\n",
       "                        cameraSeg  \n",
       "0      new_image\\mask00004656.png  \n",
       "1      new_image\\mask00028031.png  \n",
       "2      new_image\\mask00023264.png  \n",
       "3      new_image\\mask00012604.png  \n",
       "4      new_image\\mask00000091.png  \n",
       "...                           ...  \n",
       "19973  new_image\\mask00027889.png  \n",
       "19974  new_image\\mask00027586.png  \n",
       "19975  new_image\\mask00000910.png  \n",
       "19976  new_image\\mask00007185.png  \n",
       "19977  new_image\\mask00022498.png  \n",
       "\n",
       "[19978 rows x 2 columns]"
      ]
     },
     "execution_count": 36,
     "metadata": {},
     "output_type": "execute_result"
    }
   ],
   "source": [
    "train_data_loader.dataset.data_info"
   ]
  },
  {
   "cell_type": "code",
   "execution_count": null,
   "metadata": {
    "execution": {
     "iopub.status.busy": "2022-03-01T08:48:49.308972Z",
     "iopub.status.idle": "2022-03-01T08:48:49.309409Z",
     "shell.execute_reply": "2022-03-01T08:48:49.309259Z",
     "shell.execute_reply.started": "2022-03-01T08:48:49.309241Z"
    }
   },
   "outputs": [],
   "source": [
    "\n",
    "for epoch in range(epochs):  # loop over the dataset multiple times\n",
    "    running_loss = 0.0\n",
    "    epoch_loss = []\n",
    "    t = 0\n",
    "    time1 = time.time()\n",
    "    for i, (inputs, labels) in enumerate(train_data_loader):\n",
    "        # get the inputs; data is a list of [inputs, labels]\n",
    "        #inputs, labels = data\n",
    "        #print(i,len(data))\n",
    "        inputs = inputs.to(device)\n",
    "        labels = labels.to(device)\n",
    "  \n",
    "        # zero the parameter gradients\n",
    "        optimizer.zero_grad()\n",
    "      \n",
    "      \n",
    "        outputs = model(inputs)\n",
    "        \n",
    "        loss = criterion(outputs, labels)\n",
    "        \n",
    "        loss.backward()\n",
    "        optimizer.step()\n",
    "  \n",
    "        # print statistics\n",
    "        running_loss += loss.item()\n",
    "        epoch_loss.append(loss.item())\n",
    "        t+=1\n",
    "        if t % 5000 == 4999:    # print every 5000 mini-batches\n",
    "            print(f'Epoch: {epoch}, batchcount: {t}, avg. loss for last 5000 images: {running_loss/5000}')\n",
    "    time2 = time.time()\n",
    "    print(f'Epoch {epoch+1}, loss: ',np.mean(epoch_loss),f' time = {time2-time1} sec')"
   ]
  }
 ],
 "metadata": {
  "kernelspec": {
   "display_name": "Python 3 (ipykernel)",
   "language": "python",
   "name": "python3"
  },
  "language_info": {
   "codemirror_mode": {
    "name": "ipython",
    "version": 3
   },
   "file_extension": ".py",
   "mimetype": "text/x-python",
   "name": "python",
   "nbconvert_exporter": "python",
   "pygments_lexer": "ipython3",
   "version": "3.8.11"
  }
 },
 "nbformat": 4,
 "nbformat_minor": 4
}
