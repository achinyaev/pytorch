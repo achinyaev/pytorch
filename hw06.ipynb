{
 "cells": [
  {
   "cell_type": "markdown",
   "id": "786020db",
   "metadata": {},
   "source": [
    "## Домашнее задание №6\n",
    "Самостоятельно обучить классификатор текстов на примере 20newsgroups<br>\n",
    "На примере 20 newsgroups попробовать разные параметры для сверток для классификации текстов"
   ]
  },
  {
   "cell_type": "code",
   "execution_count": 1,
   "id": "e7abeed4",
   "metadata": {},
   "outputs": [],
   "source": [
    "import numpy as np\n",
    "import pandas as pd\n",
    "import matplotlib.pyplot as plt\n",
    "\n",
    "from tqdm.notebook import tqdm\n",
    "import datetime as dt\n",
    "\n",
    "from sklearn.datasets import fetch_20newsgroups\n",
    "from sklearn.model_selection import train_test_split\n",
    "from sklearn.metrics import classification_report, confusion_matrix, ConfusionMatrixDisplay\n",
    "\n",
    "from string import punctuation\n",
    "from stop_words import get_stop_words\n",
    "from pymorphy2 import MorphAnalyzer\n",
    "import re\n",
    "\n",
    "import nltk\n",
    "from nltk.tokenize import word_tokenize\n",
    "from nltk.probability import FreqDist\n",
    "\n",
    "import random\n",
    "import torch\n",
    "import torch.nn as nn\n",
    "from torch.utils.data import DataLoader, Dataset\n"
   ]
  },
  {
   "cell_type": "markdown",
   "id": "3206f916",
   "metadata": {
    "colab_type": "text",
    "id": "qEyvOxoOJDTP"
   },
   "source": [
    "### Загрузка данных"
   ]
  },
  {
   "cell_type": "code",
   "execution_count": 2,
   "id": "a0383d24",
   "metadata": {},
   "outputs": [],
   "source": [
    "data_train = fetch_20newsgroups(subset='train', \n",
    "                                shuffle=True, random_state=42)\n",
    "\n",
    "data_test = fetch_20newsgroups(subset='test', \n",
    "                               shuffle=False)"
   ]
  },
  {
   "cell_type": "code",
   "execution_count": 3,
   "id": "669d71af",
   "metadata": {},
   "outputs": [],
   "source": [
    "df_train, df_val, y_train, y_val = train_test_split(pd.DataFrame(data_train.data, columns=['text']),\n",
    "                                                    data_train.target,\n",
    "                                                    test_size=0.3, random_state=42)\n",
    "\n",
    "df_train.reset_index(drop=True, inplace=True)\n",
    "df_val.reset_index(drop=True, inplace=True)\n",
    "\n",
    "df_test = pd.DataFrame(data_test.data, columns=['text'])\n",
    "y_test = data_test.target"
   ]
  },
  {
   "cell_type": "markdown",
   "id": "e5b2b58a",
   "metadata": {
    "colab_type": "text",
    "id": "qEyvOxoOJDTP"
   },
   "source": [
    "### Предобработка"
   ]
  },
  {
   "cell_type": "code",
   "execution_count": 4,
   "id": "dcc88650",
   "metadata": {},
   "outputs": [
    {
     "name": "stderr",
     "output_type": "stream",
     "text": [
      "[nltk_data] Downloading package punkt to\n",
      "[nltk_data]     C:\\Users\\chinyaev.av\\AppData\\Roaming\\nltk_data...\n",
      "[nltk_data]   Package punkt is already up-to-date!\n"
     ]
    }
   ],
   "source": [
    "nltk.download(\"punkt\")\n",
    "sw = set(get_stop_words(\"en\"))\n",
    "exclude = set(punctuation)\n",
    "morpher = MorphAnalyzer()"
   ]
  },
  {
   "cell_type": "code",
   "execution_count": 5,
   "id": "00472974",
   "metadata": {},
   "outputs": [],
   "source": [
    "def preprocess_text(txt):\n",
    "    txt = str(txt)\n",
    "    txt = \"\".join(c for c in txt if c not in exclude)\n",
    "    txt = txt.lower()\n",
    "    txt = [morpher.parse(word)[0].normal_form for word in txt.split() if word not in sw]\n",
    "    return \" \".join(txt)\n",
    "\n",
    "df_train['text'] = df_train['text'].apply(preprocess_text)\n",
    "df_val['text'] = df_val['text'].apply(preprocess_text)\n",
    "df_test['text'] = df_test['text'].apply(preprocess_text)"
   ]
  },
  {
   "cell_type": "code",
   "execution_count": 6,
   "id": "3f96bf2d",
   "metadata": {},
   "outputs": [],
   "source": [
    "train_corpus = \" \".join(df_train[\"text\"])\n",
    "train_corpus = train_corpus.lower()"
   ]
  },
  {
   "cell_type": "code",
   "execution_count": 7,
   "id": "860fcf0e",
   "metadata": {},
   "outputs": [],
   "source": [
    "tokens = word_tokenize(train_corpus)"
   ]
  },
  {
   "cell_type": "code",
   "execution_count": 8,
   "id": "bac36ec6",
   "metadata": {},
   "outputs": [],
   "source": [
    "tokens_filtered = [word for word in tokens if word.isalnum()]\n",
    "dist = FreqDist(tokens_filtered)"
   ]
  },
  {
   "cell_type": "code",
   "execution_count": 9,
   "id": "fccc1bfe",
   "metadata": {},
   "outputs": [],
   "source": [
    "def get_vocabulary(max_words):\n",
    "    tokens_filtered_top = [pair[0] for pair in dist.most_common(max_words-1)]\n",
    "    vocabulary = {v: k for k, v in dict(enumerate(tokens_filtered_top, 1)).items()}\n",
    "    return vocabulary"
   ]
  },
  {
   "cell_type": "code",
   "execution_count": 10,
   "id": "ef7ce7a9",
   "metadata": {},
   "outputs": [],
   "source": [
    "def text_to_sequence(text, maxlen, vocabulary):\n",
    "    result = []\n",
    "    tokens = word_tokenize(text.lower())\n",
    "    tokens_filtered = [word for word in tokens if word.isalnum()]\n",
    "    for word in tokens_filtered:\n",
    "        if word in vocabulary:\n",
    "            result.append(vocabulary[word])\n",
    "    padding = [0]*(maxlen-len(result))\n",
    "    return padding + result[-maxlen:]"
   ]
  },
  {
   "cell_type": "code",
   "execution_count": 11,
   "id": "279f2949",
   "metadata": {},
   "outputs": [],
   "source": [
    "def prepare_data(max_words, max_len):\n",
    "    vocabulary = get_vocabulary(max_words)\n",
    "    x_train = np.asarray([text_to_sequence(text, max_len, vocabulary) for text in df_train[\"text\"]], dtype=np.int32)\n",
    "    x_val = np.asarray([text_to_sequence(text, max_len, vocabulary) for text in df_val[\"text\"]], dtype=np.int32)\n",
    "    x_test = np.asarray([text_to_sequence(text, max_len, vocabulary) for text in df_test[\"text\"]], dtype=np.int32)\n",
    "    print(f'x_train.shape: {x_train.shape}')\n",
    "    print(f'x_val.shape: {x_val.shape}')\n",
    "    print(f'x_test.shape: {x_test.shape}')\n",
    "    return x_train, x_val, x_test, vocabulary"
   ]
  },
  {
   "cell_type": "code",
   "execution_count": 12,
   "id": "4c48c8ec",
   "metadata": {},
   "outputs": [],
   "source": [
    "seed = 42\n",
    "random.seed(seed)\n",
    "np.random.seed(seed)\n",
    "torch.manual_seed(seed)\n",
    "torch.cuda.manual_seed(seed)\n",
    "torch.backends.cudnn.deterministic = True"
   ]
  },
  {
   "cell_type": "code",
   "execution_count": 13,
   "id": "54df3aed",
   "metadata": {},
   "outputs": [
    {
     "name": "stdout",
     "output_type": "stream",
     "text": [
      "cpu\n"
     ]
    }
   ],
   "source": [
    "device = torch.device(\"cuda:0\" if torch.cuda.is_available() else \"cpu\")\n",
    "print(device)"
   ]
  },
  {
   "cell_type": "code",
   "execution_count": 14,
   "id": "a986e674",
   "metadata": {},
   "outputs": [],
   "source": [
    "class Net(nn.Module):\n",
    "    def __init__(self, vocab_size=20, embedding_dim=128, out_channel=128, num_classes=1):\n",
    "        super().__init__()\n",
    "        self.embedding = nn.Embedding(vocab_size, embedding_dim)\n",
    "        self.conv = nn.Conv1d(embedding_dim, out_channel, kernel_size=3)\n",
    "        self.relu = nn.ReLU()\n",
    "        self.linear = nn.Linear(out_channel, num_classes)\n",
    "        \n",
    "    def forward(self, x):        \n",
    "        output = self.embedding(x)\n",
    "        # B  F  L         \n",
    "        output = output.permute(0, 2, 1)\n",
    "        output = self.conv(output)\n",
    "        output = self.relu(output)\n",
    "        output = torch.max(output, axis=2).values\n",
    "        output = self.linear(output)\n",
    "        \n",
    "        return output"
   ]
  },
  {
   "cell_type": "code",
   "execution_count": 15,
   "id": "d95c1cb4",
   "metadata": {},
   "outputs": [],
   "source": [
    "\n",
    "class NewsDataset(Dataset):\n",
    "    def __init__(self, data, target=None, transform=None):\n",
    "        self.data = torch.from_numpy(data).long()\n",
    "        if target is not None:\n",
    "            self.target = torch.from_numpy(target).long()\n",
    "        self.transform = transform\n",
    "        \n",
    "    def __getitem__(self, index):\n",
    "        x = self.data[index]\n",
    "        if self.target is not None:\n",
    "            y = np.zeros(20, dtype=float)\n",
    "            y[self.target[index]] = 1\n",
    "        else:\n",
    "            y = None\n",
    "        y = self.target[index] if self.target is not None else None\n",
    "        \n",
    "        if self.transform:\n",
    "            x = self.transform(x)\n",
    "            \n",
    "        return x, y\n",
    "    \n",
    "    def __len__(self):\n",
    "        return len(self.data)"
   ]
  },
  {
   "cell_type": "code",
   "execution_count": 16,
   "id": "73f17001",
   "metadata": {},
   "outputs": [],
   "source": [
    "class ModelTrainer():\n",
    "\n",
    "    def __init__(self,  dataset, net, loss_f,\n",
    "                 train_preprocessing=None,\n",
    "                 valid_preprocessing=None,\n",
    "                 learning_rate=1e-3, \n",
    "                 epoch_amount=10, batch_size=12,\n",
    "                 max_batches_per_epoch=None,\n",
    "                 device='cpu', early_stopping=10,\n",
    "                 optim=torch.optim.Adam,\n",
    "                 params_to_update=None,\n",
    "                 scheduler=None, permutate=True):\n",
    "        \n",
    "        self.loss_f = loss_f\n",
    "        self.learning_rate = learning_rate\n",
    "        self.epoch_amount = epoch_amount\n",
    "        self.batch_size = batch_size\n",
    "        self.max_batches_per_epoch = max_batches_per_epoch\n",
    "        self.device = device\n",
    "        self.early_stopping = early_stopping\n",
    "        \n",
    "        self.optim = optim\n",
    "        self.params_to_update = params_to_update\n",
    "        \n",
    "        self.scheduler = scheduler\n",
    "        self.permutate = permutate\n",
    "        self.dataset = dataset\n",
    "        self.train_preprocessing = train_preprocessing\n",
    "        self.valid_preprocessing = valid_preprocessing\n",
    "        \n",
    "        self.start_model = net\n",
    "        self.best_model = net\n",
    "\n",
    "        self.train_loss = []\n",
    "        self.val_loss = []\n",
    "    \n",
    "    def predict(self, X):\n",
    "        return self.best_model(X)\n",
    "\n",
    "    def fit(self, train_dataset, train_labels, valid_dataset, valid_labels):\n",
    "\n",
    "        Net = self.start_model\n",
    "            \n",
    "        device = torch.device(self.device)\n",
    "\n",
    "        Net.to(self.device)\n",
    "\n",
    "        if self.params_to_update is not None:\n",
    "            optimizer = self.optim(self.params_to_update, lr=self.learning_rate)\n",
    "        else:\n",
    "            optimizer = self.optim(Net.parameters(), lr=self.learning_rate)\n",
    "\n",
    "        if self.scheduler is not None:\n",
    "            scheduler = self.scheduler(optimizer)\n",
    "\n",
    "        train = self.dataset(train_dataset, train_labels, self.train_preprocessing)\n",
    "        val = self.dataset(valid_dataset, valid_labels, self.valid_preprocessing)  \n",
    "\n",
    "        train = DataLoader(train, batch_size=self.batch_size, shuffle=self.permutate) \n",
    "        val = DataLoader(val, batch_size=self.batch_size, shuffle=False)\n",
    "\n",
    "        best_val_loss = float('inf') \n",
    "        best_ep = 0                  \n",
    "\n",
    "        for epoch in range(self.epoch_amount): \n",
    "            start = dt.datetime.now()\n",
    "            print(f'Эпоха: {epoch}', end=' ')\n",
    "            Net.train()\n",
    "            mean_loss = 0\n",
    "            batch_n = 0\n",
    "\n",
    "            for batch_X, target in train:\n",
    "                if self.max_batches_per_epoch is not None:\n",
    "                    if batch_n >= self.max_batches_per_epoch:\n",
    "                        break\n",
    "                optimizer.zero_grad()\n",
    "\n",
    "                batch_X = batch_X.to(self.device)\n",
    "                target = target.to(self.device)\n",
    "\n",
    "                predicted_values = Net(batch_X)\n",
    "                loss = self.loss_f(predicted_values, target)\n",
    "                loss.backward()\n",
    "                optimizer.step()\n",
    "\n",
    "                mean_loss += float(loss)\n",
    "                batch_n += 1\n",
    "        \n",
    "            mean_loss /= batch_n\n",
    "            self.train_loss.append(mean_loss)\n",
    "            print(f'Loss_train: {mean_loss}, {dt.datetime.now() - start} сек')\n",
    "\n",
    "            Net.eval()\n",
    "            mean_loss = 0\n",
    "            batch_n = 0\n",
    "\n",
    "            with torch.no_grad():\n",
    "                for batch_X, target in val:\n",
    "                    if self.max_batches_per_epoch is not None:\n",
    "                        if batch_n >= self.max_batches_per_epoch:\n",
    "                            break\n",
    "                batch_X = batch_X.to(self.device)\n",
    "                target = target.to(self.device)\n",
    "\n",
    "                predicted_values = Net(batch_X)\n",
    "                loss = self.loss_f(predicted_values, target)\n",
    "\n",
    "                mean_loss += float(loss)\n",
    "                batch_n += 1\n",
    "        \n",
    "            mean_loss /= batch_n\n",
    "            self.val_loss.append(mean_loss)\n",
    "            print(f'Loss_val: {mean_loss}')\n",
    "\n",
    "            if mean_loss < best_val_loss:\n",
    "                self.best_model = Net\n",
    "                best_val_loss = mean_loss\n",
    "                best_ep = epoch\n",
    "            elif epoch - best_ep > self.early_stopping:\n",
    "                print(f'{self.early_stopping} без улучшений. Прекращаем обучение...')\n",
    "                break\n",
    "            if self.scheduler is not None:\n",
    "                scheduler.step()\n",
    "            print()\n",
    "\n",
    "    def save_model(self, PATH):\n",
    "        torch.save(self.best_model.state_dict(), PATH)\n",
    "\n",
    "    def load_model(self, PATH):\n",
    "         self.best_model.load_state_dict(torch.load(PATH))       \n",
    "        \n",
    "    def get_clf_results(self, test_dataset, test_labels):\n",
    "        test = self.dataset(test_dataset, test_labels, self.valid_preprocessing)\n",
    "        test = DataLoader(test, batch_size=self.batch_size, shuffle=False)\n",
    "        \n",
    "        true_labels = []\n",
    "        pred_labels = []\n",
    "        with torch.no_grad():\n",
    "            for batch_X, labels in test:\n",
    "                true_labels += list(labels.numpy())\n",
    "                batch_X = batch_X.to(self.device)\n",
    "                labels = labels.to(self.device)\n",
    "\n",
    "                outputs = self.predict(batch_X)\n",
    "                _, predicted = torch.max(outputs.data, 1)\n",
    "                \n",
    "                pred_labels += list(predicted.numpy())\n",
    "        return true_labels, pred_labels "
   ]
  },
  {
   "cell_type": "code",
   "execution_count": 17,
   "id": "aa83056e",
   "metadata": {
    "scrolled": true
   },
   "outputs": [
    {
     "name": "stdout",
     "output_type": "stream",
     "text": [
      "Net(\n",
      "  (embedding): Embedding(2000, 128)\n",
      "  (conv): Conv1d(128, 128, kernel_size=(3,), stride=(1,))\n",
      "  (relu): ReLU()\n",
      "  (linear): Linear(in_features=128, out_features=20, bias=True)\n",
      ")\n",
      "Parameters: 307860\n"
     ]
    }
   ],
   "source": [
    "net = Net(vocab_size=2000, num_classes=20)\n",
    "print(net)\n",
    "print(\"Parameters:\", sum([param.nelement() for param in net.parameters()]))"
   ]
  },
  {
   "cell_type": "code",
   "execution_count": 18,
   "id": "96a5778b",
   "metadata": {},
   "outputs": [],
   "source": [
    "params = {\n",
    "    'dataset': NewsDataset,\n",
    "    'net': net,\n",
    "    'batch_size': 128,\n",
    "    'epoch_amount': 20, \n",
    "    'learning_rate': 1e-3,\n",
    "    'early_stopping': 5,\n",
    "    'loss_f': nn.CrossEntropyLoss(),\n",
    "    'optim': torch.optim.Adam,\n",
    "    'device': device\n",
    "}\n",
    "\n",
    "cf_1 = ModelTrainer(**params)"
   ]
  },
  {
   "cell_type": "code",
   "execution_count": 19,
   "id": "f00e020f",
   "metadata": {},
   "outputs": [
    {
     "name": "stdout",
     "output_type": "stream",
     "text": [
      "x_train.shape: (7919, 40)\n",
      "x_val.shape: (3395, 40)\n",
      "x_test.shape: (7532, 40)\n"
     ]
    }
   ],
   "source": [
    "x_train, x_val, x_test, vocabulary = prepare_data(2000, 40)"
   ]
  },
  {
   "cell_type": "code",
   "execution_count": 20,
   "id": "da192a58",
   "metadata": {},
   "outputs": [
    {
     "name": "stdout",
     "output_type": "stream",
     "text": [
      "Эпоха: 0 Loss_train: 2.8874757789796397, 0:00:02.435144 сек\n",
      "Loss_val: 2.6781766414642334\n",
      "\n",
      "Эпоха: 1 Loss_train: 2.3962925864804174, 0:00:02.415619 сек\n",
      "Loss_val: 2.2817933559417725\n",
      "\n",
      "Эпоха: 2 Loss_train: 1.8877221249764966, 0:00:02.461298 сек\n",
      "Loss_val: 1.8942584991455078\n",
      "\n",
      "Эпоха: 3 Loss_train: 1.4696498801631313, 0:00:02.393882 сек\n",
      "Loss_val: 1.6839516162872314\n",
      "\n",
      "Эпоха: 4 Loss_train: 1.1623406698626857, 0:00:02.377496 сек\n",
      "Loss_val: 1.556107997894287\n",
      "\n",
      "Эпоха: 5 Loss_train: 0.9251579738432362, 0:00:02.384718 сек\n",
      "Loss_val: 1.4483712911605835\n",
      "\n",
      "Эпоха: 6 Loss_train: 0.7262483508356156, 0:00:02.535454 сек\n",
      "Loss_val: 1.3440293073654175\n",
      "\n",
      "Эпоха: 7 Loss_train: 0.5750639852016203, 0:00:02.642772 сек\n",
      "Loss_val: 1.310677170753479\n",
      "\n",
      "Эпоха: 8 Loss_train: 0.44440105413236924, 0:00:02.439764 сек\n",
      "Loss_val: 1.2812472581863403\n",
      "\n",
      "Эпоха: 9 Loss_train: 0.34155709176294263, 0:00:02.389430 сек\n",
      "Loss_val: 1.268249750137329\n",
      "\n",
      "Эпоха: 10 Loss_train: 0.261081594132608, 0:00:02.492974 сек\n",
      "Loss_val: 1.2900795936584473\n",
      "\n",
      "Эпоха: 11 Loss_train: 0.19754641695368674, 0:00:02.579510 сек\n",
      "Loss_val: 1.2144207954406738\n",
      "\n",
      "Эпоха: 12 Loss_train: 0.15162439259790605, 0:00:02.641933 сек\n",
      "Loss_val: 1.2412503957748413\n",
      "\n",
      "Эпоха: 13 Loss_train: 0.11817271586868071, 0:00:03.227327 сек\n",
      "Loss_val: 1.2333385944366455\n",
      "\n",
      "Эпоха: 14 Loss_train: 0.09263773875371102, 0:00:03.457953 сек\n",
      "Loss_val: 1.2272324562072754\n",
      "\n",
      "Эпоха: 15 Loss_train: 0.07446269084128641, 0:00:04.416509 сек\n",
      "Loss_val: 1.2936168909072876\n",
      "\n",
      "Эпоха: 16 Loss_train: 0.06055885030617637, 0:00:04.260801 сек\n",
      "Loss_val: 1.2600525617599487\n",
      "\n",
      "Эпоха: 17 Loss_train: 0.050949597130379366, 0:00:02.831702 сек\n",
      "Loss_val: 1.2883130311965942\n",
      "5 без улучшений. Прекращаем обучение...\n"
     ]
    }
   ],
   "source": [
    "cf_1.fit(x_train, y_train, x_val, y_val)"
   ]
  },
  {
   "cell_type": "code",
   "execution_count": 21,
   "id": "ed7e14e9",
   "metadata": {},
   "outputs": [],
   "source": [
    "true_labels, pred_labels = cf_1.get_clf_results(x_test, y_test)"
   ]
  },
  {
   "cell_type": "code",
   "execution_count": 22,
   "id": "c729ec46",
   "metadata": {},
   "outputs": [
    {
     "name": "stdout",
     "output_type": "stream",
     "text": [
      "              precision    recall  f1-score   support\n",
      "\n",
      "           0       0.39      0.38      0.39       319\n",
      "           1       0.44      0.51      0.47       389\n",
      "           2       0.56      0.55      0.55       394\n",
      "           3       0.42      0.44      0.43       392\n",
      "           4       0.50      0.52      0.51       385\n",
      "           5       0.58      0.55      0.56       395\n",
      "           6       0.70      0.66      0.68       390\n",
      "           7       0.54      0.62      0.58       396\n",
      "           8       0.75      0.73      0.74       398\n",
      "           9       0.54      0.58      0.56       397\n",
      "          10       0.75      0.70      0.72       399\n",
      "          11       0.69      0.65      0.67       396\n",
      "          12       0.32      0.36      0.34       393\n",
      "          13       0.46      0.46      0.46       396\n",
      "          14       0.64      0.54      0.58       394\n",
      "          15       0.52      0.60      0.56       398\n",
      "          16       0.50      0.50      0.50       364\n",
      "          17       0.78      0.62      0.69       376\n",
      "          18       0.40      0.35      0.38       310\n",
      "          19       0.32      0.32      0.32       251\n",
      "\n",
      "    accuracy                           0.54      7532\n",
      "   macro avg       0.54      0.53      0.53      7532\n",
      "weighted avg       0.55      0.54      0.54      7532\n",
      "\n"
     ]
    }
   ],
   "source": [
    "print(classification_report(true_labels, pred_labels))"
   ]
  },
  {
   "cell_type": "markdown",
   "id": "ecc53f65",
   "metadata": {
    "colab_type": "text",
    "id": "qEyvOxoOJDTP"
   },
   "source": [
    "### Увеличиваем словарь"
   ]
  },
  {
   "cell_type": "code",
   "execution_count": 23,
   "id": "c55b45ac",
   "metadata": {},
   "outputs": [
    {
     "name": "stdout",
     "output_type": "stream",
     "text": [
      "Net(\n",
      "  (embedding): Embedding(4000, 256)\n",
      "  (conv): Conv1d(256, 256, kernel_size=(3,), stride=(1,))\n",
      "  (relu): ReLU()\n",
      "  (linear): Linear(in_features=256, out_features=20, bias=True)\n",
      ")\n",
      "Parameters: 1226004\n"
     ]
    }
   ],
   "source": [
    "net = Net(vocab_size=4000, embedding_dim=256, out_channel=256, num_classes=20)\n",
    "\n",
    "print(net)\n",
    "print(\"Parameters:\", sum([param.nelement() for param in net.parameters()]))"
   ]
  },
  {
   "cell_type": "code",
   "execution_count": 24,
   "id": "21307e56",
   "metadata": {
    "scrolled": true
   },
   "outputs": [
    {
     "name": "stdout",
     "output_type": "stream",
     "text": [
      "x_train.shape: (7919, 60)\n",
      "x_val.shape: (3395, 60)\n",
      "x_test.shape: (7532, 60)\n"
     ]
    }
   ],
   "source": [
    "x_train, x_val, x_test, vocabulary = prepare_data(4000, 60)"
   ]
  },
  {
   "cell_type": "code",
   "execution_count": 25,
   "id": "1e5b2921",
   "metadata": {},
   "outputs": [],
   "source": [
    "params = {\n",
    "    'dataset': NewsDataset,\n",
    "    'net': net,\n",
    "    'batch_size': 128,\n",
    "    'epoch_amount': 20, \n",
    "    'learning_rate': 1e-3,\n",
    "    'early_stopping': 5,\n",
    "    'loss_f': nn.CrossEntropyLoss(),\n",
    "    'optim': torch.optim.Adam,\n",
    "    'device': device\n",
    "}\n",
    "\n",
    "cf_2 = ModelTrainer(**params)"
   ]
  },
  {
   "cell_type": "code",
   "execution_count": 26,
   "id": "9426a6d3",
   "metadata": {},
   "outputs": [
    {
     "name": "stdout",
     "output_type": "stream",
     "text": [
      "Эпоха: 0 Loss_train: 2.654599151303691, 0:00:07.457418 сек\n",
      "Loss_val: 2.00628399848938\n",
      "\n",
      "Эпоха: 1 Loss_train: 1.5631152872116334, 0:00:07.354720 сек\n",
      "Loss_val: 1.4237490892410278\n",
      "\n",
      "Эпоха: 2 Loss_train: 0.9345610074458583, 0:00:07.425584 сек\n",
      "Loss_val: 1.1586339473724365\n",
      "\n",
      "Эпоха: 3 Loss_train: 0.5424616432959034, 0:00:07.301839 сек\n",
      "Loss_val: 1.0400776863098145\n",
      "\n",
      "Эпоха: 4 Loss_train: 0.29226363306083986, 0:00:07.194603 сек\n",
      "Loss_val: 0.9063748717308044\n",
      "\n",
      "Эпоха: 5 Loss_train: 0.1572727723227393, 0:00:07.226031 сек\n",
      "Loss_val: 0.9226074814796448\n",
      "\n",
      "Эпоха: 6 Loss_train: 0.08880872291422659, 0:00:07.297754 сек\n",
      "Loss_val: 0.8930847644805908\n",
      "\n",
      "Эпоха: 7 Loss_train: 0.05679964778884765, 0:00:07.350462 сек\n",
      "Loss_val: 0.8643835783004761\n",
      "\n",
      "Эпоха: 8 Loss_train: 0.04026967232986804, 0:00:07.445818 сек\n",
      "Loss_val: 0.8778536915779114\n",
      "\n",
      "Эпоха: 9 Loss_train: 0.030797294310985074, 0:00:07.362241 сек\n",
      "Loss_val: 0.8554353713989258\n",
      "\n",
      "Эпоха: 10 Loss_train: 0.024440672549028552, 0:00:07.227669 сек\n",
      "Loss_val: 0.8585379123687744\n",
      "\n",
      "Эпоха: 11 Loss_train: 0.020731909756338405, 0:00:07.365971 сек\n",
      "Loss_val: 0.872698187828064\n",
      "\n",
      "Эпоха: 12 Loss_train: 0.017610465251510183, 0:00:07.290903 сек\n",
      "Loss_val: 0.9193688035011292\n",
      "\n",
      "Эпоха: 13 Loss_train: 0.015896469670077486, 0:00:07.386038 сек\n",
      "Loss_val: 0.8973710536956787\n",
      "\n",
      "Эпоха: 14 Loss_train: 0.014009634288208138, 0:00:08.017320 сек\n",
      "Loss_val: 0.9146806597709656\n",
      "\n",
      "Эпоха: 15 Loss_train: 0.013375574302288794, 0:00:07.339406 сек\n",
      "Loss_val: 0.8694761395454407\n",
      "5 без улучшений. Прекращаем обучение...\n"
     ]
    }
   ],
   "source": [
    "cf_2.fit(x_train, y_train, x_val, y_val)"
   ]
  },
  {
   "cell_type": "code",
   "execution_count": 27,
   "id": "3080279a",
   "metadata": {},
   "outputs": [],
   "source": [
    "true_labels, pred_labels = cf_2.get_clf_results(x_test, y_test)"
   ]
  },
  {
   "cell_type": "code",
   "execution_count": 28,
   "id": "8abbea50",
   "metadata": {},
   "outputs": [
    {
     "name": "stdout",
     "output_type": "stream",
     "text": [
      "              precision    recall  f1-score   support\n",
      "\n",
      "           0       0.53      0.53      0.53       319\n",
      "           1       0.57      0.59      0.58       389\n",
      "           2       0.63      0.65      0.64       394\n",
      "           3       0.62      0.49      0.55       392\n",
      "           4       0.69      0.67      0.68       385\n",
      "           5       0.64      0.67      0.66       395\n",
      "           6       0.67      0.80      0.73       390\n",
      "           7       0.74      0.69      0.71       396\n",
      "           8       0.80      0.80      0.80       398\n",
      "           9       0.72      0.65      0.69       397\n",
      "          10       0.76      0.77      0.77       399\n",
      "          11       0.75      0.74      0.74       396\n",
      "          12       0.42      0.49      0.45       393\n",
      "          13       0.61      0.59      0.60       396\n",
      "          14       0.72      0.72      0.72       394\n",
      "          15       0.53      0.78      0.63       398\n",
      "          16       0.56      0.67      0.61       364\n",
      "          17       0.85      0.63      0.73       376\n",
      "          18       0.51      0.41      0.45       310\n",
      "          19       0.56      0.28      0.38       251\n",
      "\n",
      "    accuracy                           0.64      7532\n",
      "   macro avg       0.64      0.63      0.63      7532\n",
      "weighted avg       0.65      0.64      0.64      7532\n",
      "\n"
     ]
    }
   ],
   "source": [
    "print(classification_report(true_labels, pred_labels))"
   ]
  },
  {
   "cell_type": "code",
   "execution_count": 29,
   "id": "021b2ca9",
   "metadata": {},
   "outputs": [],
   "source": [
    "def plot_loss():\n",
    "    plt.figure(figsize=(12, 5))\n",
    "    plt.plot(range(len(cf_1.train_loss)), cf_1.train_loss, label='train 1', linestyle='--')\n",
    "    plt.plot(range(len(cf_1.val_loss)), cf_1.val_loss, marker='o', label='val 1')\n",
    "    plt.plot(range(len(cf_2.train_loss)), cf_2.train_loss, label='train 2', linestyle='--')\n",
    "    plt.plot(range(len(cf_2.val_loss)), cf_2.val_loss, marker='o', label='val 2')\n",
    "    plt.legend()\n",
    "    plt.show()"
   ]
  },
  {
   "cell_type": "code",
   "execution_count": 30,
   "id": "312f4324",
   "metadata": {},
   "outputs": [
    {
     "data": {
      "image/png": "[encoded data removed]",
      "text/plain": [
       "<Figure size 864x360 with 1 Axes>"
      ]
     },
     "metadata": {
      "needs_background": "light"
     },
     "output_type": "display_data"
    }
   ],
   "source": [
    "plot_loss()"
   ]
  },
  {
   "cell_type": "markdown",
   "id": "94f0e884",
   "metadata": {},
   "source": [
    "ВЫВОД: Лучшие результаты показала модель с большим словарем."
   ]
  }
 ],
 "metadata": {
  "kernelspec": {
   "display_name": "Python 3 (ipykernel)",
   "language": "python",
   "name": "python3"
  },
  "language_info": {
   "codemirror_mode": {
    "name": "ipython",
    "version": 3
   },
   "file_extension": ".py",
   "mimetype": "text/x-python",
   "name": "python",
   "nbconvert_exporter": "python",
   "pygments_lexer": "ipython3",
   "version": "3.7.11"
  }
 },
 "nbformat": 4,
 "nbformat_minor": 5
}
